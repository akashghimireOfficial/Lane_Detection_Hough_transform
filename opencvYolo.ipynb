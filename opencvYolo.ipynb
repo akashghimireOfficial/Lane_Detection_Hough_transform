{
 "cells": [
  {
   "cell_type": "code",
   "execution_count": 1,
   "id": "4e4130be",
   "metadata": {},
   "outputs": [],
   "source": [
    "import cv2 as cv\n",
    "import time\n",
    "import numpy as np"
   ]
  },
  {
   "cell_type": "code",
   "execution_count": 2,
   "id": "1e610544",
   "metadata": {},
   "outputs": [],
   "source": [
    "cap=cv.VideoCapture('test.mp4')"
   ]
  },
  {
   "cell_type": "code",
   "execution_count": 3,
   "id": "39d8775b",
   "metadata": {},
   "outputs": [],
   "source": [
    "net = cv.dnn.readNetFromDarknet('yolov3.cfg', 'yolov3-tiny.weights')\n",
    "net.setPreferableBackend(cv.dnn.DNN_BACKEND_OPENCV)"
   ]
  },
  {
   "cell_type": "code",
   "execution_count": 4,
   "id": "2ab06cb9",
   "metadata": {},
   "outputs": [],
   "source": [
    "ln=net.getUnconnectedOutLayersNames()\n",
    "classes = open('coco.names').read().strip().split('\\n')\n",
    "np.random.seed(42)\n",
    "colors = np.random.randint(0, 255, size=(len(classes), 3), dtype='uint8')"
   ]
  },
  {
   "cell_type": "code",
   "execution_count": 5,
   "id": "d7b0c230",
   "metadata": {},
   "outputs": [],
   "source": [
    "def post_process(img, outputs, conf):\n",
    "    H, W = img.shape[:2]\n",
    "\n",
    "    boxes = []\n",
    "    confidences = []\n",
    "    classIDs = []\n",
    "\n",
    "    for output in outputs:\n",
    "        scores = output[5:]\n",
    "        classID = np.argmax(scores)\n",
    "        confidence = scores[classID]\n",
    "        if confidence > conf:\n",
    "            x, y, w, h = output[:4] * np.array([W, H, W, H])\n",
    "            p0 = int(x - w//2), int(y - h//2)\n",
    "            p1 = int(x + w//2), int(y + h//2)\n",
    "            boxes.append([*p0, int(w), int(h)])\n",
    "            confidences.append(float(confidence))\n",
    "            classIDs.append(classID)\n",
    "            # cv.rectangle(img, p0, p1, WHITE, 1)\n",
    "\n",
    "    indices = cv.dnn.NMSBoxes(boxes, confidences, conf, conf-0.1)\n",
    "    if len(indices) > 0:\n",
    "        for i in indices.flatten():\n",
    "            (x, y) = (boxes[i][0], boxes[i][1])\n",
    "            (w, h) = (boxes[i][2], boxes[i][3])\n",
    "            color = [int(c) for c in colors[classIDs[i]]]\n",
    "            cv.rectangle(img, (x, y), (x + w, y + h), color, 2)\n",
    "            text = \"{}: {:.4f}\".format(classes[classIDs[i]], confidences[i])\n",
    "            cv.putText(img, text, (x, y - 5), cv.FONT_HERSHEY_SIMPLEX, 0.5, color, 1)\n"
   ]
  },
  {
   "cell_type": "code",
   "execution_count": 6,
   "id": "356ac9d2",
   "metadata": {},
   "outputs": [],
   "source": [
    "while cap.isOpened():\n",
    "    sucess,frame=cap.read()\n",
    "    \n",
    "    if not sucess:\n",
    "       \n",
    "        break\n",
    "    frame=cv.resize(frame,(416,416))\n",
    "    frame=cv.flip(frame,1)\n",
    "    img=frame.copy()\n",
    "    blob = cv.dnn.blobFromImage(img, 1/255.0, (416, 416), swapRB=True, crop=False)\n",
    "    net.setInput(blob)\n",
    "    t0 = time.time()\n",
    "    outputs = net.forward(ln)\n",
    "    t = time.time() - t0\n",
    "    outputs = np.vstack(outputs)\n",
    "    post_process(img, outputs, 0.5)\n",
    "    \n",
    "    \n",
    "    \n",
    "    \n",
    "    \n",
    "    \n",
    "    cv.imshow('window',img)\n",
    "    #cv.displayOverlay('window', f'forward propagation time={t:.3}')\n",
    "    if cv.waitKey(1)==27:\n",
    "        break\n",
    "cap.release()\n",
    "cv.destroyAllWindows()"
   ]
  },
  {
   "cell_type": "code",
   "execution_count": null,
   "id": "ff6adef2",
   "metadata": {},
   "outputs": [],
   "source": []
  },
  {
   "cell_type": "code",
   "execution_count": null,
   "id": "469d6333",
   "metadata": {},
   "outputs": [],
   "source": []
  },
  {
   "cell_type": "code",
   "execution_count": null,
   "id": "36e272a4",
   "metadata": {},
   "outputs": [],
   "source": []
  }
 ],
 "metadata": {
  "interpreter": {
   "hash": "28351a7ac9c5c3f87d7e2cfd5b1f967c228653fc23bb7a0997ca4e9b6c4c6b30"
  },
  "kernelspec": {
   "display_name": "Python 3.9.12 ('vision')",
   "language": "python",
   "name": "python3"
  },
  "language_info": {
   "codemirror_mode": {
    "name": "ipython",
    "version": 3
   },
   "file_extension": ".py",
   "mimetype": "text/x-python",
   "name": "python",
   "nbconvert_exporter": "python",
   "pygments_lexer": "ipython3",
   "version": "3.9.12"
  }
 },
 "nbformat": 4,
 "nbformat_minor": 5
}
